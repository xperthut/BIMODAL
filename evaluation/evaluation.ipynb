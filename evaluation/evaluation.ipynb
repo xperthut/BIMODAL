{
 "cells": [
  {
   "cell_type": "code",
   "execution_count": 1,
   "id": "02d4e81a-d7be-4c42-82fb-4706cb791bf2",
   "metadata": {
    "tags": []
   },
   "outputs": [],
   "source": [
    "import torch\n",
    "from evaluation import Evaluator"
   ]
  },
  {
   "cell_type": "code",
   "execution_count": 3,
   "id": "4d931abd-63e0-4536-9bb5-d649c83bde7e",
   "metadata": {
    "tags": []
   },
   "outputs": [
    {
     "name": "stdout",
     "output_type": "stream",
     "text": [
      "[1. 1. 1. 1. 1. 1. 1. 1. 1. 1.]\n",
      "[0. 0. 0. 0. 0. 0. 0. 0. 0. 0.]\n",
      "[0. 0. 0. 0. 0. 0. 0. 0. 0. 0.]\n"
     ]
    }
   ],
   "source": [
    "stor_dir = '../evaluation/'\n",
    "e = Evaluator(experiment_name = 'BIMODAL_fixed_512')#'BIMODAL_fixed_512_GETTER')\n",
    "# evaluation of training and validation losses\n",
    "e.eval_training_validation(stor_dir=stor_dir)\n",
    "# evaluation of sampled molecules\n",
    "e.eval_molecule(stor_dir=stor_dir)"
   ]
  },
  {
   "cell_type": "code",
   "execution_count": null,
   "id": "54d98c6e-7f11-400b-807e-b0b94d3ac87b",
   "metadata": {},
   "outputs": [],
   "source": []
  }
 ],
 "metadata": {
  "kernelspec": {
   "display_name": "Python 3.11 (pytorch)",
   "language": "python",
   "name": "pytorch"
  },
  "language_info": {
   "codemirror_mode": {
    "name": "ipython",
    "version": 3
   },
   "file_extension": ".py",
   "mimetype": "text/x-python",
   "name": "python",
   "nbconvert_exporter": "python",
   "pygments_lexer": "ipython3",
   "version": "3.11.4"
  }
 },
 "nbformat": 4,
 "nbformat_minor": 5
}
